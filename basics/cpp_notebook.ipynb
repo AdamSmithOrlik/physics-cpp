{
 "cells": [
  {
   "cell_type": "code",
   "execution_count": null,
   "metadata": {
    "vscode": {
     "languageId": "python"
    }
   },
   "outputs": [
    {
     "ename": "",
     "evalue": "",
     "output_type": "error",
     "traceback": [
      "\u001b[1;31mFailed to start the Kernel. \n",
      "\u001b[1;31mregistering handler for SIGSEGV\n",
      "\u001b[1;31mIn file included from input_line_1:1:\n",
      "\u001b[1;31mIn file included from /Users/adamsmith/opt/anaconda3/envs/c++/bin/../include/c++/v1/new:93:\n",
      "\u001b[1;31mIn file included from /Users/adamsmith/opt/anaconda3/envs/c++/bin/../include/c++/v1/__type_traits/alignment_of.h:14:\n",
      "\u001b[1;31m/Users/adamsmith/opt/anaconda3/envs/c++/bin/../include/c++/v1/cstddef:60:9: error: no member named 'ptrdiff_t' in the global namespace\n",
      "\u001b[1;31musing ::ptrdiff_t _LIBCPP_USING_IF_EXISTS;\n",
      "\u001b[1;31m      ~~^\n",
      "\u001b[1;31m/Users/adamsmith/opt/anaconda3/envs/c++/bin/../include/c++/v1/cstddef:61:9: error: no member named 'size_t' in the global namespace\n",
      "\u001b[1;31musing ::size_t _LIBCPP_USING_IF_EXISTS;\n",
      "\u001b[1;31m      ~~^\n",
      "\u001b[1;31m/Users/adamsmith/opt/anaconda3/envs/c++/bin/../include/c++/v1/cstddef:64:9: error: no member named 'max_align_t' in the global namespace\n",
      "\u001b[1;31musing ::max_align_t _LIBCPP_USING_IF_EXISTS;\n",
      "\u001b[1;31m      ~~^\n",
      "\u001b[1;31mIn file included from input_line_1:1:\n",
      "\u001b[1;31mIn file included from /Users/adamsmith/opt/anaconda3/envs/c++/bin/../include/c++/v1/new:93:\n",
      "\u001b[1;31m/Users/adamsmith/opt/anaconda3/envs/c++/bin/../include/c++/v1/__type_traits/alignment_of.h:23:69: error: use of undeclared identifier 'size_t'; did you mean 'sizeof'?\n",
      "\u001b[1;31mstruct _LIBCPP_TEMPLATE_VIS alignment_of : public integral_constant<size_t, _LIBCPP_ALIGNOF(_Tp)> {};\n",
      "\u001b[1;31m                                                                    ^\n",
      "\u001b[1;31m/Users/adamsmith/opt/anaconda3/envs/c++/bin/../include/c++/v1/__type_traits/alignment_of.h:23:75: error: expected expression\n",
      "\u001b[1;31mstruct _LIBCPP_TEMPLATE_VIS alignment_of : public integral_constant<size_t, _LIBCPP_ALIGNOF(_Tp)> {};\n",
      "\u001b[1;31m                                                                          ^\n",
      "\u001b[1;31m/Users/adamsmith/opt/anaconda3/envs/c++/bin/../include/c++/v1/__type_traits/alignment_of.h:27:18: error: unknown type name 'size_t'\n",
      "\u001b[1;31minline constexpr size_t alignment_of_v = _LIBCPP_ALIGNOF(_Tp);\n",
      "\u001b[1;31m                 ^\n",
      "\u001b[1;31mIn file included from input_line_1:1:\n",
      "\u001b[1;31mIn file included from /Users/adamsmith/opt/anaconda3/envs/c++/bin/../include/c++/v1/new:99:\n",
      "\u001b[1;31mIn file included from /Users/adamsmith/opt/anaconda3/envs/c++/bin/../include/c++/v1/cstdlib:87:\n",
      "\u001b[1;31m/Users/adamsmith/opt/anaconda3/envs/c++/bin/../include/c++/v1/stdlib.h:148:34: error: unknown type name 'ldiv_t'\n",
      "\u001b[1;31minline _LIBCPP_INLINE_VISIBILITY ldiv_t div(long __x, long __y) _NOEXCEPT {\n",
      "\u001b[1;31m                                 ^\n",
      "\u001b[1;31m/Users/adamsmith/opt/anaconda3/envs/c++/bin/../include/c++/v1/stdlib.h:149:12: error: no member named 'ldiv' in the global namespace\n",
      "\u001b[1;31m  return ::ldiv(__x, __y);\n",
      "\u001b[1;31m         ~~^\n",
      "\u001b[1;31m/Users/adamsmith/opt/anaconda3/envs/c++/bin/../include/c++/v1/stdlib.h:152:34: error: unknown type name 'lldiv_t'\n",
      "\u001b[1;31minline _LIBCPP_INLINE_VISIBILITY lldiv_t div(long long __x,\n",
      "\u001b[1;31m                                 ^\n",
      "\u001b[1;31m/Users/adamsmith/opt/anaconda3/envs/c++/bin/../include/c++/v1/stdlib.h:154:12: error: no member named 'lldiv' in the global namespace\n",
      "\u001b[1;31m  return ::lldiv(__x, __y);\n",
      "\u001b[1;31m         ~~^\n",
      "\u001b[1;31mIn file included from input_line_1:1:\n",
      "\u001b[1;31mIn file included from /Users/adamsmith/opt/anaconda3/envs/c++/bin/../include/c++/v1/new:99:\n",
      "\u001b[1;31m/Users/adamsmith/opt/anaconda3/envs/c++/bin/../include/c++/v1/cstdlib:103:9: error: no member named 'size_t' in the global namespace\n",
      "\u001b[1;31musing ::size_t _LIBCPP_USING_IF_EXISTS;\n",
      "\u001b[1;31m      ~~^\n",
      "\u001b[1;31m/Users/adamsmith/opt/anaconda3/envs/c++/bin/../include/c++/v1/cstdlib:104:9: error: no member named 'div_t' in the global namespace\n",
      "\u001b[1;31musing ::div_t _LIBCPP_USING_IF_EXISTS;\n",
      "\u001b[1;31m      ~~^\n",
      "\u001b[1;31m/Users/adamsmith/opt/anaconda3/envs/c++/bin/../include/c++/v1/cstdlib:105:9: error: no member named 'ldiv_t' in the global namespace\n",
      "\u001b[1;31musing ::ldiv_t _LIBCPP_USING_IF_EXISTS;\n",
      "\u001b[1;31m      ~~^\n",
      "\u001b[1;31m/Users/adamsmith/opt/anaconda3/envs/c++/bin/../include/c++/v1/cstdlib:106:9: error: no member named 'lldiv_t' in the global namespace\n",
      "\u001b[1;31musing ::lldiv_t _LIBCPP_USING_IF_EXISTS;\n",
      "\u001b[1;31m      ~~^\n",
      "\u001b[1;31m/Users/adamsmith/opt/anaconda3/envs/c++/bin/../include/c++/v1/cstdlib:107:9: error: no member named 'atof' in the global namespace\n",
      "\u001b[1;31musing ::atof _LIBCPP_USING_IF_EXISTS;\n",
      "\u001b[1;31m      ~~^\n",
      "\u001b[1;31m/Users/adamsmith/opt/anaconda3/envs/c++/bin/../include/c++/v1/cstdlib:108:9: error: no member named 'atoi' in the global namespace\n",
      "\u001b[1;31musing ::atoi _LIBCPP_USING_IF_EXISTS;\n",
      "\u001b[1;31m      ~~^\n",
      "\u001b[1;31m/Users/adamsmith/opt/anaconda3/envs/c++/bin/../include/c++/v1/cstdlib:109:9: error: no member named 'atol' in the global namespace\n",
      "\u001b[1;31musing ::atol _LIBCPP_USING_IF_EXISTS;\n",
      "\u001b[1;31m      ~~^\n",
      "\u001b[1;31m/Users/adamsmith/opt/anaconda3/envs/c++/bin/../include/c++/v1/cstdlib:110:9: error: no member named 'atoll' in the global namespace\n",
      "\u001b[1;31musing ::atoll _LIBCPP_USING_IF_EXISTS;\n",
      "\u001b[1;31m      ~~^\n",
      "\u001b[1;31m/Users/adamsmith/opt/anaconda3/envs/c++/bin/../include/c++/v1/cstdlib:111:9: error: no member named 'strtod' in the global namespace\n",
      "\u001b[1;31musing ::strtod _LIBCPP_USING_IF_EXISTS;\n",
      "\u001b[1;31m      ~~^\n",
      "\u001b[1;31mfatal error: too many errors emitted, stopping now [-ferror-limit=]\n",
      "\u001b[1;31mReplaced symbol atexit cannot be found in JIT!\n",
      "\u001b[1;31mReplaced symbol at_quick_exit cannot be found in JIT!\n",
      "\u001b[1;31mError: signal 11:\n",
      "\u001b[1;31m0   xcpp                                0x0000000106ce58e1 _Z7handleri + 33\n",
      "\u001b[1;31m1   libsystem_platform.dylib            0x00007ff802d72fdd _sigtramp + 29\n",
      "\u001b[1;31m2   libxeus-cling.0.15.0.dylib          0x0000000109e7c13f _ZL12LookupDirectRN5clang4SemaERNS_12LookupResultEPKNS_11DeclContextE + 543\n",
      "\u001b[1;31m3   libxeus-cling.0.15.0.dylib          0x000000010929ea01 _ZN5clang19RecursiveASTVisitorIN12_GLOBAL__N_120PointerCheckInjectorEE12TraverseStmtEPNS_4StmtEPN4llvm15SmallVectorImplINS6_14PointerIntPairIS5_Lj1EbNS6_21PointerLikeTypeTraitsIS5_EENS6_18PointerIntPairInfoIS5_Lj1ESA_EEEEEE + 1137\n",
      "\u001b[1;31m4   libxeus-cling.0.15.0.dylib          0x00000001092b4db7 _ZN5clang19RecursiveASTVisitorIN12_GLOBAL__N_120PointerCheckInjectorEE22TraverseFunctionHelperEPNS_12FunctionDeclE + 567\n",
      "\u001b[1;31m5   libxeus-cling.0.15.0.dylib          0x00000001092999a6 _ZN5clang19RecursiveASTVisitorIN12_GLOBAL__N_120PointerCheckInjectorEE12TraverseDeclEPNS_4DeclE + 934\n",
      "\u001b[1;31m6   libxeus-cling.0.15.0.dylib          0x000000010929dddb _ZN5clang19RecursiveASTVisitorIN12_GLOBAL__N_120PointerCheckInjectorEE25TraverseDeclContextHelperEPNS_11DeclContextE + 59\n",
      "\u001b[1;31m7   libxeus-cling.0.15.0.dylib          0x0000000109299650 _ZN5clang19RecursiveASTVisitorIN12_GLOBAL__N_120PointerCheckInjectorEE12TraverseDeclEPNS_4DeclE + 80\n",
      "\u001b[1;31m8   libxeus-cling.0.15.0.dylib          0x0000000109299585 _ZN5cling30NullDerefProtectionTransformer9TransformEPN5clang4DeclE + 133\n",
      "\u001b[1;31m9   libxeus-cling.0.15.0.dylib          0x000000010921b379 _ZNK5cling13DeclCollector13TransformDeclEPN5clang4DeclE + 73. \n",
      "\u001b[1;31mView Jupyter <a href='command:jupyter.viewOutput'>log</a> for further details."
     ]
    }
   ],
   "source": [
    "#include <iostream>\n",
    "#include <vector>\n",
    "#include <algorithm>\n",
    "\n",
    "// Simple test to print \"Hello, World!\"\n",
    "int main() {\n",
    "    std::cout << \"Hello, World!\" << std::endl;\n",
    "    return 0;\n",
    "}\n",
    "\n",
    "main();"
   ]
  },
  {
   "cell_type": "code",
   "execution_count": null,
   "metadata": {
    "vscode": {
     "languageId": "python"
    }
   },
   "outputs": [],
   "source": []
  }
 ],
 "metadata": {
  "kernelspec": {
   "display_name": "C++17",
   "language": "C++17",
   "name": "xcpp17"
  },
  "language_info": {
   "codemirror_mode": {
    "name": "ipython",
    "version": 3
   },
   "file_extension": ".py",
   "mimetype": "text/x-python",
   "name": "C++17",
   "nbconvert_exporter": "python",
   "pygments_lexer": "ipython3",
   "version": "3.12.4"
  }
 },
 "nbformat": 4,
 "nbformat_minor": 2
}
